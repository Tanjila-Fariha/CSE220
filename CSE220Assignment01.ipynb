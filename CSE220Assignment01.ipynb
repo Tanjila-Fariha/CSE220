{
 "cells": [
  {
   "cell_type": "code",
   "execution_count": 14,
   "metadata": {},
   "outputs": [
    {
     "name": "stdout",
     "output_type": "stream",
     "text": [
      "[40, 50, 60, 0, 0, 0]\n"
     ]
    }
   ],
   "source": [
    "#Task 1\n",
    "source = [10, 20, 30, 40, 50, 60]\n",
    "def shiftLeft(source,k):\n",
    "    temp = source[-1]\n",
    "    for j in range(k):\n",
    "        for i in range(-1,-(len(source)+1),-1):\n",
    "            if i > -len(source):\n",
    "                temp1 = source[i-1]\n",
    "                source[i-1] = temp\n",
    "                temp = temp1\n",
    "            else:\n",
    "                source[-1] = temp\n",
    "    for i in range(1,k+1):\n",
    "        source[-i] = 0\n",
    "    print(source)\n",
    "\n",
    "shiftLeft(source,3)"
   ]
  },
  {
   "cell_type": "code",
   "execution_count": 15,
   "metadata": {},
   "outputs": [
    {
     "name": "stdout",
     "output_type": "stream",
     "text": [
      "[40, 50, 60, 10, 20, 30]\n"
     ]
    }
   ],
   "source": [
    "#Task 2\n",
    "source = [10, 20, 30, 40, 50, 60]\n",
    "def shiftLeft(source,k):\n",
    "    temp = source[-1]\n",
    "    for j in range(k):\n",
    "        for i in range(-1,-(len(source)+1),-1):\n",
    "            if i > -len(source):\n",
    "                temp1 = source[i-1]\n",
    "                source[i-1] = temp\n",
    "                temp = temp1\n",
    "            else:\n",
    "                source[-1] = temp\n",
    "    print(source)\n",
    "\n",
    "shiftLeft(source,3)"
   ]
  },
  {
   "cell_type": "code",
   "execution_count": 2,
   "metadata": {},
   "outputs": [
    {
     "name": "stdout",
     "output_type": "stream",
     "text": [
      "[0, 0, 0, 10, 20, 30]\n"
     ]
    }
   ],
   "source": [
    "#Task 3\n",
    "\n",
    "source = [10, 20, 30, 40, 50, 60]\n",
    "def shiftRight(source,k):\n",
    "    temp = source[0]\n",
    "    for j in range(k):\n",
    "        for i in range(len(source)):\n",
    "            if i < len(source)-1:\n",
    "                temp1 = source[i+1]\n",
    "                source[i+1] = temp\n",
    "                temp = temp1\n",
    "            else:\n",
    "                source[0] = temp\n",
    "    for i in range(k):\n",
    "        source[i] = 0\n",
    "    print(source)\n",
    "\n",
    "shiftRight(source,3)"
   ]
  },
  {
   "cell_type": "code",
   "execution_count": 4,
   "metadata": {},
   "outputs": [
    {
     "name": "stdout",
     "output_type": "stream",
     "text": [
      "[40, 50, 60, 10, 20, 30]\n"
     ]
    }
   ],
   "source": [
    "#Task 4\n",
    "source = [10, 20, 30, 40, 50, 60]\n",
    "def rotateRight(source,k):\n",
    "    temp = source[0]\n",
    "    for j in range(k):\n",
    "        for i in range(len(source)):\n",
    "            if i < len(source)-1:\n",
    "                temp1 = source[i+1]\n",
    "                source[i+1] = temp\n",
    "                temp = temp1\n",
    "            else:\n",
    "                source[0] = temp\n",
    "    print(source)\n",
    "\n",
    "rotateRight(source,3)"
   ]
  },
  {
   "cell_type": "code",
   "execution_count": 25,
   "metadata": {},
   "outputs": [
    {
     "name": "stdout",
     "output_type": "stream",
     "text": [
      "[10, 20, 40, 50, 0]\n"
     ]
    }
   ],
   "source": [
    "#Task 05\n",
    "source=[10,20,30,40,50,0,0]\n",
    "def remove(source,size,idx):\n",
    "    for i in range(idx,size-1):\n",
    "        source[i]=source[i+1]\n",
    "    source[size-1]=0\n",
    "    print(source)\n",
    "remove(source,5,2)\n",
    "        "
   ]
  },
  {
   "cell_type": "code",
   "execution_count": 37,
   "metadata": {},
   "outputs": [
    {
     "name": "stdout",
     "output_type": "stream",
     "text": [
      "[10, 30, 50, 0, 0, 0, 0]\n"
     ]
    }
   ],
   "source": [
    "#Task 6\n",
    "source=[10,2,30,2,50,2,2]\n",
    "def removeAll(source,size,element):\n",
    "    count=0\n",
    "    for i in range(size):\n",
    "        if source[i]==element:\n",
    "            count+=1\n",
    "            source[i]=0\n",
    "    for i in range(1,size):\n",
    "        if source[i]==0:\n",
    "            for i in range(i,size-1):\n",
    "                source[i] = source[i+1]\n",
    "    print(source)\n",
    "\n",
    "removeAll(source,7,2)"
   ]
  },
  {
   "cell_type": "code",
   "execution_count": 43,
   "metadata": {},
   "outputs": [
    {
     "name": "stdout",
     "output_type": "stream",
     "text": [
      "True\n"
     ]
    }
   ],
   "source": [
    "list1=[13, 3, 10]\n",
    "left=0\n",
    "right=0\n",
    "for i in range(1,len(list1)):\n",
    "    left = 0\n",
    "    right = 0\n",
    "    checker=False\n",
    "    for j in range(0,i):\n",
    "        left+=list1[j]\n",
    "    for k in range(i,len(list1)):\n",
    "        right+=list1[k]\n",
    "    if left==right:\n",
    "        checker=True\n",
    "        break\n",
    "print(checker)\n",
    "    "
   ]
  },
  {
   "cell_type": "code",
   "execution_count": 46,
   "metadata": {},
   "outputs": [
    {
     "name": "stdout",
     "output_type": "stream",
     "text": [
      "[0, 0, 0, 1, 0, 0, 2, 1, 0, 3, 2, 1, 4, 3, 2, 1]\n"
     ]
    }
   ],
   "source": [
    "#Task 08\n",
    "def series(n):\n",
    "    arr1=[0]*(n**2)\n",
    "    for i in range(n-1,len(arr1),n):\n",
    "        for j in range(1,((i+1)//n)+1):\n",
    "            arr1[i-(j-1)]=j\n",
    "    return arr1\n",
    "print(series(4))"
   ]
  },
  {
   "cell_type": "code",
   "execution_count": 50,
   "metadata": {},
   "outputs": [
    {
     "name": "stdout",
     "output_type": "stream",
     "text": [
      "4\n"
     ]
    }
   ],
   "source": [
    "#Task 9\n",
    "def bunch(arr1):\n",
    "    count1=1\n",
    "    count2=1\n",
    "    for i in range(1,len(arr1)):\n",
    "        if arr1[i]==arr1[i-1]:\n",
    "            count1+=1\n",
    "        else:\n",
    "            count1=1\n",
    "        if count1>count2:\n",
    "            count2=count1\n",
    "    return count2\n",
    "print(bunch([1,1,2,2,1,1,1,1]))"
   ]
  },
  {
   "cell_type": "code",
   "execution_count": null,
   "metadata": {},
   "outputs": [],
   "source": []
  }
 ],
 "metadata": {
  "kernelspec": {
   "display_name": "Python 3",
   "language": "python",
   "name": "python3"
  },
  "language_info": {
   "codemirror_mode": {
    "name": "ipython",
    "version": 3
   },
   "file_extension": ".py",
   "mimetype": "text/x-python",
   "name": "python",
   "nbconvert_exporter": "python",
   "pygments_lexer": "ipython3",
   "version": "3.9.13 (tags/v3.9.13:6de2ca5, May 17 2022, 16:36:42) [MSC v.1929 64 bit (AMD64)]"
  },
  "orig_nbformat": 4,
  "vscode": {
   "interpreter": {
    "hash": "a873f5a139af5292c00abb590a42701be9dd2fa4416cc2c5cfc6bc387f351db0"
   }
  }
 },
 "nbformat": 4,
 "nbformat_minor": 2
}
