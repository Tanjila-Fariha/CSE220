{
 "cells": [
  {
   "cell_type": "code",
   "execution_count": 7,
   "metadata": {},
   "outputs": [
    {
     "name": "stdout",
     "output_type": "stream",
     "text": [
      "6\n",
      "5\n",
      "1\n",
      "2\n",
      "3\n",
      "125\n"
     ]
    }
   ],
   "source": [
    "#1\n",
    "#a\n",
    "def factorial(n):\n",
    "    if n<=1:\n",
    "        return 1\n",
    "    else:\n",
    "        return n*factorial(n-1)\n",
    "print(factorial(3))\n",
    "\n",
    "#b\n",
    "def fibonacci(n):\n",
    "    if n<0:\n",
    "        return \"negative number inserted\"\n",
    "    if n<2:\n",
    "        return n\n",
    "    else:\n",
    "        return fibonacci(n-1)+fibonacci(n-2)\n",
    "print(fibonacci(5))\n",
    "\n",
    "#c\n",
    "def print_array(a,idx):\n",
    "    if idx==len(a):\n",
    "        return None\n",
    "    else:\n",
    "        print(a[idx])\n",
    "        print_array(a,idx+1)\n",
    "print_array([1,2,3],0)\n",
    "\n",
    "#d\n",
    "def powerN(n,p):\n",
    "    if p==0:\n",
    "        return 1\n",
    "    else:\n",
    "        return n*powerN(n,p-1)\n",
    "print(powerN(5,3))\n",
    "\n"
   ]
  },
  {
   "cell_type": "code",
   "execution_count": 8,
   "metadata": {},
   "outputs": [
    {
     "name": "stdout",
     "output_type": "stream",
     "text": [
      "1\n"
     ]
    }
   ],
   "source": [
    "#2\n",
    "#a\n",
    "def decimal_to_binary(n):\n",
    "    if n==0:\n",
    "        return \"\"\n",
    "    else:\n",
    "        return decimal_to_binary(n//2)+str(n%2)\n",
    "print(decimal_to_binary(1))\n",
    "\n"
   ]
  },
  {
   "cell_type": "code",
   "execution_count": null,
   "metadata": {},
   "outputs": [],
   "source": [
    "class node:\n",
    "    def __init__(self,e,n):\n",
    "        self.elem=e\n",
    "        self.next=n\n",
    "def add_elem(h):\n",
    "    if h==None:\n",
    "        return 0\n",
    "    else:\n",
    "        return h.elem+add_elem(h.next)\n",
    "print(add_elem(a))\n",
    "\n",
    "def reverse_print(h):\n",
    "    if h!=None:\n",
    "        reverse_print(h.next)\n",
    "        print(h.elem)\n",
    "print(reverse_print())\n"
   ]
  },
  {
   "cell_type": "code",
   "execution_count": 12,
   "metadata": {},
   "outputs": [
    {
     "name": "stdout",
     "output_type": "stream",
     "text": [
      "18\n"
     ]
    }
   ],
   "source": [
    "def hocBuilder(h):\n",
    "    if h==0:\n",
    "        return 0\n",
    "    if h==1:\n",
    "        return 8\n",
    "    else:\n",
    "        return 5+hocBuilder(h-1)\n",
    "print(hocBuilder(3))"
   ]
  },
  {
   "cell_type": "code",
   "execution_count": 89,
   "metadata": {},
   "outputs": [
    {
     "name": "stdout",
     "output_type": "stream",
     "text": [
      "1\n",
      "12\n",
      "123\n",
      "here\n"
     ]
    }
   ],
   "source": [
    "\n",
    "def pattern1(n):\n",
    "    str1=\"\"\n",
    "    if n==0:\n",
    "        print(\"\")\n",
    "        return str1\n",
    "    elif n==1:\n",
    "        str1=str(1)\n",
    "        print(str1)\n",
    "        return str1\n",
    "    else:\n",
    "        str1=pattern1(n-1)+str(n)\n",
    "        print(str1)\n",
    "        return str1\n",
    "    #print(str1)\n",
    "\n",
    "pattern1(3)\n",
    "print('here')\n",
    "\n",
    "#1\n",
    "#12\n",
    "#123\n"
   ]
  },
  {
   "cell_type": "code",
   "execution_count": null,
   "metadata": {},
   "outputs": [],
   "source": [
    "def f2(n=4, i=1):\n",
    "    str2 = pattern2(i)\n",
    "    if i == n:\n",
    "        print(\"\")\n",
    "    else:\n",
    "        print(str2)\n",
    "        f2(n-1, i+1)\n",
    "\n",
    "\n",
    "def pattern2(n):\n",
    "    str1 = \"\"\n",
    "    if n == 0:\n",
    "        return str1\n",
    "    elif n == 1:\n",
    "        str1 = str(1)\n",
    "        return str1\n",
    "    else:\n",
    "        str1 = pattern2(n-1)+str(n)\n",
    "        return str1\n",
    "    \n"
   ]
  },
  {
   "cell_type": "code",
   "execution_count": 82,
   "metadata": {},
   "outputs": [
    {
     "name": "stdout",
     "output_type": "stream",
     "text": [
      "    1\n",
      "   12\n",
      "  123\n",
      " 1234\n",
      "12345\n",
      "\n"
     ]
    }
   ],
   "source": [
    "\n",
    "def real_f(n):\n",
    "    def f2(n,i=1):\n",
    "        str2=pattern2(i)\n",
    "        if n==0:\n",
    "            print(\"\")\n",
    "        else:\n",
    "            print(\" \"*(n-1),end=\"\")\n",
    "            print(str2)\n",
    "            f2(n-1,i+1)\n",
    "    def pattern2(n):\n",
    "        str1 = \"\"\n",
    "        if n == 0:\n",
    "            return str1\n",
    "        elif n == 1:\n",
    "            str1 = str(1)\n",
    "            return str1\n",
    "        else:\n",
    "            str1 = pattern2(n-1)+str(n)\n",
    "            return str1\n",
    "    f2(n)\n",
    "real_f(5)\n",
    "\n",
    "\n",
    "\n",
    "    #print(str1)\n",
    "#print(pattern2(1))\n"
   ]
  },
  {
   "cell_type": "code",
   "execution_count": 36,
   "metadata": {},
   "outputs": [
    {
     "name": "stdout",
     "output_type": "stream",
     "text": [
      "1\n",
      " 12\n",
      "  123\n"
     ]
    },
    {
     "data": {
      "text/plain": [
       "'  123'"
      ]
     },
     "execution_count": 36,
     "metadata": {},
     "output_type": "execute_result"
    }
   ],
   "source": [
    "def pattern2(n):\n",
    "    str1=\" \"*(n-1)\n",
    "    str2=\"\"\n",
    "    str3=\"\"\n",
    "    str4=\"\"\n",
    "    if n==0:\n",
    "        return \"\"\n",
    "    if n==1:\n",
    "        return 1\n",
    "    else:\n",
    "        \n",
    "        str2=pattern2(n-1)+n\n",
    "        print(str2)\n",
    "        return str2\n",
    "pattern2(3)               \n",
    "\n",
    "#  1\n",
    "# 12\n",
    "#123"
   ]
  },
  {
   "cell_type": "code",
   "execution_count": 34,
   "metadata": {},
   "outputs": [
    {
     "name": "stdout",
     "output_type": "stream",
     "text": [
      "    1\n",
      "   12\n",
      "  123\n",
      " 1234\n",
      "12345\n"
     ]
    }
   ],
   "source": [
    "def f(n):\n",
    "    i=1\n",
    "    str1=\"\"\n",
    "    str2=\"\"\n",
    "    str3=\"\"\n",
    "    while i<=n:\n",
    "        str1=\" \"*(n-i)+str3+str(i)\n",
    "        str3=str3+str(i)\n",
    "        if str2!=\"\":\n",
    "            str2=str2+\"\\n\"+str1\n",
    "        else:\n",
    "            str2=str1\n",
    "        i+=1\n",
    "    print(str2)\n",
    "f(5)\n",
    "        \n",
    "\n"
   ]
  },
  {
   "cell_type": "code",
   "execution_count": 44,
   "metadata": {},
   "outputs": [
    {
     "data": {
      "text/plain": [
       "'  12 1'"
      ]
     },
     "execution_count": 44,
     "metadata": {},
     "output_type": "execute_result"
    }
   ],
   "source": [
    "def f3(n):\n",
    "    i=n\n",
    "    str1=\"\"\n",
    "    def f4(i):\n",
    "        if i==1:\n",
    "            return \"\"\n",
    "        else:\n",
    "            return \" \"+f4(i-1)\n",
    "    if n==0:\n",
    "        return \"\"\n",
    "    return f4(n,i)+f3(n-1)\n",
    "    \n",
    "    #if n==1:\n",
    "        #return \"1\"\n",
    "    #else:\n",
    "        #return f4(n,n)+f3(n-1)+str(i)\n",
    "\n",
    "f3(3)\n",
    "\n",
    "#  1\n",
    "# 12\n",
    "#123"
   ]
  },
  {
   "cell_type": "code",
   "execution_count": 3,
   "metadata": {},
   "outputs": [
    {
     "name": "stdout",
     "output_type": "stream",
     "text": [
      "Fariha\n",
      "Fariha\n",
      "Fariha\n",
      "Fariha\n",
      "Fariha\n",
      "12345\n",
      "12345\n",
      "12345\n",
      "12345\n",
      "12345\n"
     ]
    },
    {
     "data": {
      "text/plain": [
       "'12345'"
      ]
     },
     "execution_count": 3,
     "metadata": {},
     "output_type": "execute_result"
    }
   ],
   "source": [
    "def print_1(n,str1):\n",
    "    if n>=1:\n",
    "        print(str1)\n",
    "        print_1(n-1,str1)\n",
    "print_1(5,\"Fariha\")\n",
    "\n",
    "def count(n, i=2):\n",
    "    str1 = print_from_1ton(n)\n",
    "    if i>=1:\n",
    "        print(str1)\n",
    "        count(n,i-1)\n",
    "    #if i == 0:\n",
    "        #return \"\"\n",
    "    #else:\n",
    "        #return print_from_1ton(n)+count(str1,n,i-1)\n",
    "\n",
    "    \n",
    "def print_from_1ton(n):\n",
    "    if n==0:\n",
    "        return \"\"\n",
    "    else:\n",
    "        str2=print_from_1ton(n-1)+str(n)\n",
    "        return str2\n",
    "\n",
    "    #count(n,i-1)\n",
    "def reality(n):\n",
    "    \n",
    "    def count(n, i):\n",
    "        str1 = print_from_1ton(n)\n",
    "        if i >= 1:\n",
    "            print(str1)\n",
    "            count(n, i-1)\n",
    "    def print_from_1ton(n):\n",
    "        if n==0:\n",
    "            return \"\"\n",
    "        else:\n",
    "            str2=print_from_1ton(n-1)+str(n)\n",
    "            return str2\n",
    "    count(n,n)\n",
    "    \n",
    "    \n",
    "\n",
    "reality(5)\n",
    "\n",
    "\n",
    "print_from_1ton(5)\n",
    "#123\n",
    "#123\n",
    "#123\n",
    "    \n"
   ]
  },
  {
   "cell_type": "code",
   "execution_count": 7,
   "metadata": {},
   "outputs": [
    {
     "ename": "",
     "evalue": "",
     "output_type": "error",
     "traceback": [
      "\u001b[1;31mCanceled future for execute_request message before replies were done"
     ]
    },
    {
     "ename": "",
     "evalue": "",
     "output_type": "error",
     "traceback": [
      "\u001b[1;31mThe Kernel crashed while executing code in the the current cell or a previous cell. Please review the code in the cell(s) to identify a possible cause of the failure. Click <a href='https://aka.ms/vscodeJupyterKernelCrash'>here</a> for more info. View Jupyter <a href='command:jupyter.viewOutput'>log</a> for further details."
     ]
    }
   ],
   "source": [
    "class FinalQ:\n",
    "    def __init__(self):\n",
    "        pass\n",
    "    def print(self,array,idx):\n",
    "        if(idx<len(array)):\n",
    "            profit = self.calcProfit(array[idx]) #TO DO\n",
    "            print(\"Investment: \", str(array[idx])+\"; Profit: \", profit)\n",
    "            self.print(array, idx+1)\n",
    "    def calcProfit(self,investment):\n",
    "        if investment<=25000:\n",
    "            return 0.0\n",
    "        else:\n",
    "            if investment<=100000:\n",
    "\n",
    "                return 4.5+self.calcProfit(investment-100)\n",
    "            else:\n",
    "                return 8+self.calcProfit(investment-100)\n",
    "            \n",
    "\n",
    "#TO DO\n",
    "#Tester\n",
    "array=[25000,100000,250000,350000]\n",
    "f = FinalQ()\n",
    "f.print(array,0)\n",
    "\n",
    "#1. Investment: 25000\n",
    "#Profit: 0.0\n",
    "#2. Investment: 100000\n",
    "#Profit: 3375.0\n",
    "#3. Investment: 250000\n",
    "#Profit: 15375.0\n",
    "#4. Investment: 350000\n",
    "#Profit: 23375.0\n"
   ]
  },
  {
   "cell_type": "code",
   "execution_count": 1,
   "metadata": {},
   "outputs": [
    {
     "name": "stdout",
     "output_type": "stream",
     "text": [
      "5\n"
     ]
    }
   ],
   "source": [
    "print(5)"
   ]
  },
  {
   "cell_type": "code",
   "execution_count": 6,
   "metadata": {},
   "outputs": [
    {
     "name": "stdout",
     "output_type": "stream",
     "text": [
      "0.045\n",
      "0.09\n",
      "1.44\n",
      "1.4400000000000002\n",
      "4.5\n",
      "3375.0\n"
     ]
    }
   ],
   "source": [
    "print(4.5/100)\n",
    "print(2*0.045)\n",
    "print(32*0.045)\n",
    "print(2*0.045+3*0.45)\n",
    "#print(3*0.45)\n",
    "def rateMultiplier(r,n=1):\n",
    "    if n>10:\n",
    "        return 0\n",
    "    else:\n",
    "        return round(r+rateMultiplier(r,n+1),3)\n",
    "print(rateMultiplier(0.45))\n",
    "def f4(n1,r1):\n",
    "    if n1==0:\n",
    "        return 0\n",
    "    else:\n",
    "        return r1+f4(n1-1,r1)\n",
    "def f3(i,r):\n",
    "    if i==0:\n",
    "        return 0\n",
    "    else:\n",
    "        return f4(i%10,r)+f3(i//10,rateMultiplier(r))\n",
    "def calcFactor(investment):\n",
    "    if investment<=25000:\n",
    "        return 0\n",
    "    elif investment==100000:\n",
    "        return f3(75000,0.045)+calcFactor(25000)\n",
    "        \n",
    "    elif investment>100000:\n",
    "        return f3(investment-100000,8/100)+calcFactor(100000)\n",
    "print(calcFactor(100000))"
   ]
  },
  {
   "cell_type": "code",
   "execution_count": 8,
   "metadata": {},
   "outputs": [
    {
     "data": {
      "text/plain": [
       "'(Hello)'"
      ]
     },
     "execution_count": 8,
     "metadata": {},
     "output_type": "execute_result"
    }
   ],
   "source": [
    "def print_bracket(str1):\n",
    "    def f1(str2):\n",
    "        if str2[0]==\")\":\n",
    "            return \")\"\n",
    "        else:\n",
    "            return str2[0]+f1(str2[1:])\n",
    "\n",
    "    if str1[0]==\")\":\n",
    "        return \")\"\n",
    "    else:\n",
    "        if str1[0]==\"(\":\n",
    "            return str1[0]+f1(str1[1:])\n",
    "        else:\n",
    "            return \"\"+print_bracket(str1[1:])\n",
    "print_bracket(\"hi(Hello)bro\")"
   ]
  },
  {
   "cell_type": "code",
   "execution_count": 32,
   "metadata": {},
   "outputs": [
    {
     "name": "stdout",
     "output_type": "stream",
     "text": [
      "1\n"
     ]
    }
   ],
   "source": [
    "test=int(input())\n",
    "for i in range(test):\n",
    "    list1=input().split(\" \")\n",
    "    list2=input().split(\" \")\n",
    "    n=int(list1[0])\n",
    "    k=int(list1[1])\n",
    "    d=int(list1[2])\n",
    "    w=int(list1[3])\n",
    "    list3=[]\n",
    "    for j in list2:\n",
    "        list3.append(int(j))\n",
    "    a=list3[0]\n",
    "    pack=0\n",
    "    k1=0\n",
    "    while k1<len(list3):\n",
    "        if len(list3[k1:])<k:\n",
    "            l1=list3[k1:]\n",
    "        else:\n",
    "            l1=list3[k1:k1+k]\n",
    "        maxi=max(l1)\n",
    "        mini=min(l1)\n",
    "        if maxi-mini<=d+w:\n",
    "            pack+=1\n",
    "            k1=k1+k\n",
    "        else:\n",
    "            sum=0\n",
    "            for x in range(len(l1)):\n",
    "                sum+=l1[x]\n",
    "                if l1[x]>mini+d+w:\n",
    "                    pack+=1\n",
    "                    k1=k1+x\n",
    "                    break\n",
    "    print(pack)\n",
    "\n",
    "                    \n",
    "            \n",
    "                 \n",
    "\n",
    "\n",
    "#6 3 5 3\n",
    "#1 2 3 10 11 18\n",
    "#6 4 0 0\n",
    "#3 3 3 3 3 4\n",
    "#9 10 2 2\n",
    "#0 1 2 3 4 5 6 7 8\n",
    "#3 10 3 6\n",
    "#10 20 30\n",
    "#5 5 4 4\n",
    "#0 2 4 6 8\n",
    "\n",
    "#2\n",
    "#3\n",
    "#2\n",
    "#3\n",
    "#1\n"
   ]
  },
  {
   "cell_type": "code",
   "execution_count": 37,
   "metadata": {},
   "outputs": [
    {
     "name": "stdout",
     "output_type": "stream",
     "text": [
      "[1, 2, 3, 4, 5, 6, 7, 8, 9, 10, 11, 12, 13, 14, 15, 16, 17]\n"
     ]
    }
   ],
   "source": [
    "def flattenList(given_list,output_list,i=0):\n",
    "    if i>=len(given_list):\n",
    "        return output_list\n",
    "    else:\n",
    "        if type(given_list[i])==int:\n",
    "            output_list.append(given_list[i])\n",
    "            return flattenList(given_list,output_list,i+1)\n",
    "        else:\n",
    "            a=flattenList(given_list[i],output_list)\n",
    "            return flattenList(given_list,a,i+1)\n",
    "    #return output_list\n",
    "\n",
    "\n",
    "print(flattenList([1, [2, [3, [4], 5], 6], 7, 8, [\n",
    "      9, [[10, 11], 12], 13], 14, [15, [16, [17]]]],[]))\n"
   ]
  },
  {
   "cell_type": "code",
   "execution_count": null,
   "metadata": {},
   "outputs": [],
   "source": [
    "class Node:\n",
    "    def __init__(self, next, bottom, val):\n",
    "        self.next = next # for next item\n",
    "        self.bottom = bottom # for nested item check\n",
    "        self.val = val # The integer value\n"
   ]
  },
  {
   "cell_type": "code",
   "execution_count": null,
   "metadata": {},
   "outputs": [],
   "source": [
    "#PracticeSheet\n",
    "#18\n",
    "def changeXY(str1):\n",
    "\n",
    "    if len(str1) <= 1:\n",
    "        if str1 == \"x\":\n",
    "            return \"y\"\n",
    "        else:\n",
    "            return str1\n",
    "    else:\n",
    "        if str1[0] == \"x\":\n",
    "            return \"y\"+changeXY(str1[1:])\n",
    "        else:\n",
    "            return str1[0]+changeXY(str1[1:])\n",
    "\n",
    "\n",
    "print(changeXY(\"xhixhix\"))\n"
   ]
  },
  {
   "cell_type": "code",
   "execution_count": null,
   "metadata": {},
   "outputs": [],
   "source": [
    "def array6(arr1,idx):\n",
    "    if idx==len(arr1):\n",
    "        return False\n",
    "    else:\n",
    "        if arr1[idx]==6:\n",
    "            return True\n",
    "        else:\n",
    "            return array6(arr1,idx+1)\n",
    "print(array6([6],0))"
   ]
  },
  {
   "cell_type": "code",
   "execution_count": 1,
   "metadata": {},
   "outputs": [
    {
     "name": "stdout",
     "output_type": "stream",
     "text": [
      "a*b*c\n"
     ]
    }
   ],
   "source": [
    "def allStar(str1):\n",
    "    if len(str1) <= 1:\n",
    "        return str1\n",
    "    else:\n",
    "        return str1[0]+\"*\"+allStar(str1[1:])\n",
    "\n",
    "\n",
    "print(allStar(\"abc\"))\n"
   ]
  },
  {
   "cell_type": "code",
   "execution_count": 6,
   "metadata": {},
   "outputs": [
    {
     "name": "stdout",
     "output_type": "stream",
     "text": [
      "1\n"
     ]
    }
   ],
   "source": [
    "def countPairs(str1):\n",
    "    if len(str1)<=2:\n",
    "        return 0\n",
    "    else:\n",
    "        if str1[0]==str1[2]:\n",
    "            return 1+countPairs(str1[1:])\n",
    "        else:\n",
    "            return countPairs(str1[1:])\n",
    "print(countPairs(\"axbx\"))"
   ]
  },
  {
   "cell_type": "code",
   "execution_count": 7,
   "metadata": {},
   "outputs": [
    {
     "name": "stdout",
     "output_type": "stream",
     "text": [
      "yza\n"
     ]
    }
   ],
   "source": [
    "def stringClean(str1):\n",
    "    if len(str1)<=2:\n",
    "        if str1[0]==str1[1]:\n",
    "            return str1[1]\n",
    "        else:\n",
    "            return str1\n",
    "\n",
    "    else:\n",
    "        if str1[0]==str1[1]:\n",
    "            return stringClean(str1[1:])\n",
    "        else:\n",
    "            return str1[0]+stringClean(str1[1:])\n",
    "print(stringClean(\"yyyyyzzzaaa\"))\n",
    "        "
   ]
  }
 ],
 "metadata": {
  "kernelspec": {
   "display_name": "Python 3",
   "language": "python",
   "name": "python3"
  },
  "language_info": {
   "codemirror_mode": {
    "name": "ipython",
    "version": 3
   },
   "file_extension": ".py",
   "mimetype": "text/x-python",
   "name": "python",
   "nbconvert_exporter": "python",
   "pygments_lexer": "ipython3",
   "version": "3.9.13"
  },
  "orig_nbformat": 4,
  "vscode": {
   "interpreter": {
    "hash": "a873f5a139af5292c00abb590a42701be9dd2fa4416cc2c5cfc6bc387f351db0"
   }
  }
 },
 "nbformat": 4,
 "nbformat_minor": 2
}
