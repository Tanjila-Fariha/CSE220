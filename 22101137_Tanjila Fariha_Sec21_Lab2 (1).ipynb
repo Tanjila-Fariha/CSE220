{
  "cells": [
    {
      "cell_type": "code",
      "execution_count": 17,
      "metadata": {
        "colab": {
          "base_uri": "https://localhost:8080/"
        },
        "id": "0mO1hrUDmLlO",
        "outputId": "0e710ebd-949b-4efa-afc3-ebb61ee105ec"
      },
      "outputs": [
        {
          "name": "stdout",
          "output_type": "stream",
          "text": [
            "Enter a string:giRtfel2th\n",
            "Enter another string:rightLeft2\n",
            "Your input is valid. Press any key and then press enter to continue!!!\n",
            "Top board start character: R\n",
            "Top board start index: 2\n",
            "Bottom board start: L\n",
            "Bottom board start index: 5\n",
            "Press any key and then press enter to continue!!!f\n",
            "Right2left\n",
            "Left2right\n",
            "Press any key and then press enter to continue!!!f\n",
            "ight2leftR\n",
            "eft2rightL\n",
            "Press any key and then press enter to continue!!!f\n",
            "ght2leftRi\n",
            "ft2rightLe\n",
            "Press any key and then press enter to continue!!!f\n",
            "ht2leftRig\n",
            "t2rightLef\n",
            "Press any key and then press enter to continue!!!f\n",
            "t2leftRigh\n",
            "2rightLeft\n",
            "Press any key and then press enter to continue!!!f\n",
            "2leftRight\n",
            "rightLeft2\n",
            "Press any key and then press enter to continue!!!q\n",
            "Top board start character: R\n",
            "Top board start index: 2\n",
            "Bottom board start: L\n",
            "Bottom board start index: 5\n"
          ]
        }
      ],
      "source": [
        "#Assignment-02\n",
        "#Task-01\n",
        "#implementing a 2D array\n",
        "arr=[[\"\"]*10,[\"\"]*10]\n",
        "text1=input(\"Enter a string:\")\n",
        "text2=input(\"Enter another string:\")\n",
        "if len(text1)>10 or len(text2)>10:\n",
        "  print(\"Invalid input size!!!\")\n",
        "else:\n",
        "  for i in range(len(text1)):\n",
        "    arr[0][i]=text1[i]\n",
        "    if 65<=ord(text1[i])<=90:\n",
        "      st1=i\n",
        "      ch1=text1[i]\n",
        "  for j in range(len(text2)):\n",
        "    arr[1][j]=text2[j]\n",
        "    if 65<=ord(text2[j])<=90:\n",
        "      st2=j\n",
        "      ch2=text2[j]\n",
        "  print(\"Your input is valid. Press any key and then press enter to continue!!!\")\n",
        "  print(\"Top board start character:\",ch1)\n",
        "  print(\"Top board start index:\",st1)\n",
        "  print(\"Bottom board start:\",ch2)\n",
        "  print(\"Bottom board start index:\",st2)\n",
        "  idx1=st1+1\n",
        "  idx2=st2-1\n",
        "  while True:\n",
        "    ch=input(\"Press any key and then press enter to continue!!!\")\n",
        "    if ch==\"Q\" or ch==\"q\":\n",
        "      print(\"Top board start character:\",ch1)\n",
        "      print(\"Top board start index:\",st1)\n",
        "      print(\"Bottom board start:\",ch2)\n",
        "      print(\"Bottom board start index:\",st2)\n",
        "      break\n",
        "    else:\n",
        "      idx1-=1\n",
        "      if idx1==-1:\n",
        "        idx1=len(text1)-1\n",
        "      str1=\"\"\n",
        "      idx_one=idx1\n",
        "      for k in range(len(text1)):\n",
        "        str1+=arr[0][idx_one]\n",
        "        idx_one-=1\n",
        "        if idx_one==-1:\n",
        "          idx_one=len(text1)-1\n",
        "\n",
        "      print(str1)\n",
        "      idx2=(idx2+1)%len(text2)\n",
        "      str2=\"\"\n",
        "      idx_two=idx2\n",
        "      for i in range(len(text2)):\n",
        "        str2+=arr[1][idx_two]\n",
        "        idx_two=(idx_two+1)%len(text2)\n",
        "      print(str2)\n",
        "\n",
        "    \n",
        "\n",
        "  \n",
        "\n",
        "\n",
        "\n"
      ]
    }
  ],
  "metadata": {
    "colab": {
      "provenance": []
    },
    "kernelspec": {
      "display_name": "Python 3",
      "language": "python",
      "name": "python3"
    },
    "language_info": {
      "name": "python",
      "version": "3.9.13"
    },
    "vscode": {
      "interpreter": {
        "hash": "a873f5a139af5292c00abb590a42701be9dd2fa4416cc2c5cfc6bc387f351db0"
      }
    }
  },
  "nbformat": 4,
  "nbformat_minor": 0
}
