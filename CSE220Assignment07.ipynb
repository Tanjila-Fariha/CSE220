{
 "cells": [
  {
   "cell_type": "code",
   "execution_count": 18,
   "metadata": {},
   "outputs": [
    {
     "name": "stdout",
     "output_type": "stream",
     "text": [
      "True\n",
      "[-3, -2, -1, 1, 2, 3, 4]\n"
     ]
    }
   ],
   "source": [
    "#-2,-3,2,3,0\n",
    "class KeyIndex:\n",
    "    def __init__(self,arr1):\n",
    "        self.array=arr1\n",
    "        arr2=[0]*len(self.array)\n",
    "        for y in range(len(self.array)):\n",
    "            arr2[y]=self.array[y]\n",
    "        mini=0\n",
    "        maxi=0\n",
    "        checker=False\n",
    "        for i in arr2:\n",
    "            if i<0:\n",
    "                checker=True\n",
    "                mini=min(arr2)\n",
    "                break\n",
    "        if checker==True:\n",
    "            for j in range(len(arr2)):\n",
    "                arr2[j]=arr2[j]-mini\n",
    "            maxi=max(arr2)\n",
    "            self.k=[0]*(maxi+1)\n",
    "        else:\n",
    "            maxi=max(arr2)\n",
    "            self.k=[0]*(maxi+1)\n",
    "        for x in arr2:\n",
    "            self.k[x]+=1\n",
    "\n",
    "    def search(self,val):\n",
    "        mini=len(self.k)-1-max(self.array)\n",
    "        if val+mini>=len(self.k):\n",
    "            return False\n",
    "        elif self.k[val+mini]>0:\n",
    "            return True\n",
    "        else:\n",
    "            return False\n",
    "    def sort(self):\n",
    "        mini = len(self.k)-1-max(self.array)\n",
    "        j=0\n",
    "        for i in range(len(self.k)):\n",
    "            if self.k[i]!=0:\n",
    "                for x in range(self.k[i]):\n",
    "                    self.array[j]=i-mini\n",
    "                    j+=1\n",
    "        return self.array\n",
    "\n",
    "            \n",
    "\n",
    "l1=[4,1,2,3,-2,-1,-3]\n",
    "obj1=KeyIndex(l1)\n",
    "print(obj1.search(4))\n",
    "print(obj1.sort())\n",
    "                        \n",
    "        "
   ]
  },
  {
   "cell_type": "code",
   "execution_count": 23,
   "metadata": {},
   "outputs": [
    {
     "name": "stdout",
     "output_type": "stream",
     "text": [
      "[0, 0, 0, 0, 'ST1E89B8A32', 0, 0, 0, 0]\n"
     ]
    }
   ],
   "source": [
    "arr1=[\"ST1E89B8A32\"]\n",
    "hashTable=[0]*9\n",
    "for i in arr1:\n",
    "    c=0\n",
    "    sum=0\n",
    "    for j in i:\n",
    "        if \"A\"<=j<=\"Z\" and j not in \"AEIOU\":\n",
    "            c+=1\n",
    "        elif j in \"1234567890\":\n",
    "            sum+=int(j)\n",
    "    val=(c*24+sum)%9\n",
    "    if hashTable[val]==0:\n",
    "        hashTable[val]=i\n",
    "    else:\n",
    "        for k in range(len(hashTable)):\n",
    "            idx=(val+k+1)%9\n",
    "            if hashTable[idx]==0:\n",
    "                hashTable[idx]=i\n",
    "print(hashTable)\n"
   ]
  },
  {
   "cell_type": "code",
   "execution_count": null,
   "metadata": {},
   "outputs": [],
   "source": []
  }
 ],
 "metadata": {
  "kernelspec": {
   "display_name": "Python 3",
   "language": "python",
   "name": "python3"
  },
  "language_info": {
   "codemirror_mode": {
    "name": "ipython",
    "version": 3
   },
   "file_extension": ".py",
   "mimetype": "text/x-python",
   "name": "python",
   "nbconvert_exporter": "python",
   "pygments_lexer": "ipython3",
   "version": "3.9.13"
  },
  "orig_nbformat": 4
 },
 "nbformat": 4,
 "nbformat_minor": 2
}
